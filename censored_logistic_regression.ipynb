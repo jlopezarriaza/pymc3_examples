{
 "cells": [
  {
   "cell_type": "code",
   "execution_count": 1,
   "metadata": {},
   "outputs": [
    {
     "data": {
      "application/javascript": [
       "\n",
       "            setTimeout(function() {\n",
       "                var nbb_cell_id = 1;\n",
       "                var nbb_unformatted_code = \"%load_ext nb_black\";\n",
       "                var nbb_formatted_code = \"%load_ext nb_black\";\n",
       "                var nbb_cells = Jupyter.notebook.get_cells();\n",
       "                for (var i = 0; i < nbb_cells.length; ++i) {\n",
       "                    if (nbb_cells[i].input_prompt_number == nbb_cell_id) {\n",
       "                        if (nbb_cells[i].get_text() == nbb_unformatted_code) {\n",
       "                             nbb_cells[i].set_text(nbb_formatted_code);\n",
       "                        }\n",
       "                        break;\n",
       "                    }\n",
       "                }\n",
       "            }, 500);\n",
       "            "
      ],
      "text/plain": [
       "<IPython.core.display.Javascript object>"
      ]
     },
     "metadata": {},
     "output_type": "display_data"
    }
   ],
   "source": [
    "%load_ext nb_black"
   ]
  },
  {
   "cell_type": "code",
   "execution_count": 2,
   "metadata": {},
   "outputs": [
    {
     "data": {
      "application/javascript": [
       "\n",
       "            setTimeout(function() {\n",
       "                var nbb_cell_id = 2;\n",
       "                var nbb_unformatted_code = \"import pandas as pd\\nimport numpy as np\\nimport matplotlib.pyplot as plt\\nimport pymc3 as pm\\nimport arviz as az\";\n",
       "                var nbb_formatted_code = \"import pandas as pd\\nimport numpy as np\\nimport matplotlib.pyplot as plt\\nimport pymc3 as pm\\nimport arviz as az\";\n",
       "                var nbb_cells = Jupyter.notebook.get_cells();\n",
       "                for (var i = 0; i < nbb_cells.length; ++i) {\n",
       "                    if (nbb_cells[i].input_prompt_number == nbb_cell_id) {\n",
       "                        if (nbb_cells[i].get_text() == nbb_unformatted_code) {\n",
       "                             nbb_cells[i].set_text(nbb_formatted_code);\n",
       "                        }\n",
       "                        break;\n",
       "                    }\n",
       "                }\n",
       "            }, 500);\n",
       "            "
      ],
      "text/plain": [
       "<IPython.core.display.Javascript object>"
      ]
     },
     "metadata": {},
     "output_type": "display_data"
    }
   ],
   "source": [
    "import pandas as pd\n",
    "import numpy as np\n",
    "import matplotlib.pyplot as plt\n",
    "import pymc3 as pm\n",
    "import arviz as az"
   ]
  },
  {
   "cell_type": "code",
   "execution_count": 3,
   "metadata": {},
   "outputs": [
    {
     "data": {
      "application/javascript": [
       "\n",
       "            setTimeout(function() {\n",
       "                var nbb_cell_id = 3;\n",
       "                var nbb_unformatted_code = \"def calculate_sigmoid(alpha, beta, x):\\n    z = alpha + beta * x\\n    pr = 1 / (1 + np.exp(-z))\\n    return pr\";\n",
       "                var nbb_formatted_code = \"def calculate_sigmoid(alpha, beta, x):\\n    z = alpha + beta * x\\n    pr = 1 / (1 + np.exp(-z))\\n    return pr\";\n",
       "                var nbb_cells = Jupyter.notebook.get_cells();\n",
       "                for (var i = 0; i < nbb_cells.length; ++i) {\n",
       "                    if (nbb_cells[i].input_prompt_number == nbb_cell_id) {\n",
       "                        if (nbb_cells[i].get_text() == nbb_unformatted_code) {\n",
       "                             nbb_cells[i].set_text(nbb_formatted_code);\n",
       "                        }\n",
       "                        break;\n",
       "                    }\n",
       "                }\n",
       "            }, 500);\n",
       "            "
      ],
      "text/plain": [
       "<IPython.core.display.Javascript object>"
      ]
     },
     "metadata": {},
     "output_type": "display_data"
    }
   ],
   "source": [
    "def calculate_sigmoid(alpha, beta, x):\n",
    "    z = alpha + beta * x\n",
    "    pr = 1 / (1 + np.exp(-z))\n",
    "    return pr"
   ]
  },
  {
   "cell_type": "code",
   "execution_count": 4,
   "metadata": {},
   "outputs": [
    {
     "data": {
      "application/javascript": [
       "\n",
       "            setTimeout(function() {\n",
       "                var nbb_cell_id = 4;\n",
       "                var nbb_unformatted_code = \"x = np.random.normal(0, 5, 1000)\\nalpha_true = 3\\nbeta_true = 1.5\\npr = calculate_sigmoid(alpha_true, beta_true, x)\\ny_obs = np.random.binomial(1, pr, 1000)\";\n",
       "                var nbb_formatted_code = \"x = np.random.normal(0, 5, 1000)\\nalpha_true = 3\\nbeta_true = 1.5\\npr = calculate_sigmoid(alpha_true, beta_true, x)\\ny_obs = np.random.binomial(1, pr, 1000)\";\n",
       "                var nbb_cells = Jupyter.notebook.get_cells();\n",
       "                for (var i = 0; i < nbb_cells.length; ++i) {\n",
       "                    if (nbb_cells[i].input_prompt_number == nbb_cell_id) {\n",
       "                        if (nbb_cells[i].get_text() == nbb_unformatted_code) {\n",
       "                             nbb_cells[i].set_text(nbb_formatted_code);\n",
       "                        }\n",
       "                        break;\n",
       "                    }\n",
       "                }\n",
       "            }, 500);\n",
       "            "
      ],
      "text/plain": [
       "<IPython.core.display.Javascript object>"
      ]
     },
     "metadata": {},
     "output_type": "display_data"
    }
   ],
   "source": [
    "x = np.random.normal(0, 5, 1000)\n",
    "alpha_true = 3\n",
    "beta_true = 1.5\n",
    "pr = calculate_sigmoid(alpha_true, beta_true, x)\n",
    "y_obs = np.random.binomial(1, pr, 1000)"
   ]
  },
  {
   "cell_type": "code",
   "execution_count": 5,
   "metadata": {},
   "outputs": [
    {
     "data": {
      "application/javascript": [
       "\n",
       "            setTimeout(function() {\n",
       "                var nbb_cell_id = 5;\n",
       "                var nbb_unformatted_code = \"mask = y_obs == 1\\ny_obs_censored = y_obs[mask]\\nx_censored = x[mask]\";\n",
       "                var nbb_formatted_code = \"mask = y_obs == 1\\ny_obs_censored = y_obs[mask]\\nx_censored = x[mask]\";\n",
       "                var nbb_cells = Jupyter.notebook.get_cells();\n",
       "                for (var i = 0; i < nbb_cells.length; ++i) {\n",
       "                    if (nbb_cells[i].input_prompt_number == nbb_cell_id) {\n",
       "                        if (nbb_cells[i].get_text() == nbb_unformatted_code) {\n",
       "                             nbb_cells[i].set_text(nbb_formatted_code);\n",
       "                        }\n",
       "                        break;\n",
       "                    }\n",
       "                }\n",
       "            }, 500);\n",
       "            "
      ],
      "text/plain": [
       "<IPython.core.display.Javascript object>"
      ]
     },
     "metadata": {},
     "output_type": "display_data"
    }
   ],
   "source": [
    "mask = y_obs == 1\n",
    "y_obs_censored = y_obs[mask]\n",
    "x_censored = x[mask]"
   ]
  },
  {
   "cell_type": "code",
   "execution_count": 6,
   "metadata": {},
   "outputs": [
    {
     "data": {
      "text/plain": [
       "<matplotlib.collections.PathCollection at 0x7fb538dbb668>"
      ]
     },
     "execution_count": 6,
     "metadata": {},
     "output_type": "execute_result"
    },
    {
     "data": {
      "image/png": "[encoded data removed]",
      "text/plain": [
       "<Figure size 432x288 with 1 Axes>"
      ]
     },
     "metadata": {
      "needs_background": "light"
     },
     "output_type": "display_data"
    },
    {
     "data": {
      "application/javascript": [
       "\n",
       "            setTimeout(function() {\n",
       "                var nbb_cell_id = 6;\n",
       "                var nbb_unformatted_code = \"plt.scatter(x, pr)\\nplt.scatter(x, y_obs, c=\\\"black\\\", marker=\\\"o\\\")\\nplt.vlines(-np.sign(alpha_true) * np.log(np.abs(alpha_true)), 0, 1)\\nplt.scatter(x_censored, y_obs_censored, c=\\\"red\\\", marker=\\\".\\\")\";\n",
       "                var nbb_formatted_code = \"plt.scatter(x, pr)\\nplt.scatter(x, y_obs, c=\\\"black\\\", marker=\\\"o\\\")\\nplt.vlines(-np.sign(alpha_true) * np.log(np.abs(alpha_true)), 0, 1)\\nplt.scatter(x_censored, y_obs_censored, c=\\\"red\\\", marker=\\\".\\\")\";\n",
       "                var nbb_cells = Jupyter.notebook.get_cells();\n",
       "                for (var i = 0; i < nbb_cells.length; ++i) {\n",
       "                    if (nbb_cells[i].input_prompt_number == nbb_cell_id) {\n",
       "                        if (nbb_cells[i].get_text() == nbb_unformatted_code) {\n",
       "                             nbb_cells[i].set_text(nbb_formatted_code);\n",
       "                        }\n",
       "                        break;\n",
       "                    }\n",
       "                }\n",
       "            }, 500);\n",
       "            "
      ],
      "text/plain": [
       "<IPython.core.display.Javascript object>"
      ]
     },
     "metadata": {},
     "output_type": "display_data"
    }
   ],
   "source": [
    "plt.scatter(x, pr)\n",
    "plt.scatter(x, y_obs, c=\"black\", marker=\"o\")\n",
    "plt.vlines(-np.sign(alpha_true) * np.log(np.abs(alpha_true)), 0, 1)\n",
    "plt.scatter(x_censored, y_obs_censored, c=\"red\", marker=\".\")"
   ]
  },
  {
   "cell_type": "code",
   "execution_count": 7,
   "metadata": {},
   "outputs": [
    {
     "data": {
      "application/javascript": [
       "\n",
       "            setTimeout(function() {\n",
       "                var nbb_cell_id = 7;\n",
       "                var nbb_unformatted_code = \"prior_beta_mu = 0\\nprior_beta_sd = 10\\nprior_alpha_mu = 0\\nprior_alpha_b = 10\";\n",
       "                var nbb_formatted_code = \"prior_beta_mu = 0\\nprior_beta_sd = 10\\nprior_alpha_mu = 0\\nprior_alpha_b = 10\";\n",
       "                var nbb_cells = Jupyter.notebook.get_cells();\n",
       "                for (var i = 0; i < nbb_cells.length; ++i) {\n",
       "                    if (nbb_cells[i].input_prompt_number == nbb_cell_id) {\n",
       "                        if (nbb_cells[i].get_text() == nbb_unformatted_code) {\n",
       "                             nbb_cells[i].set_text(nbb_formatted_code);\n",
       "                        }\n",
       "                        break;\n",
       "                    }\n",
       "                }\n",
       "            }, 500);\n",
       "            "
      ],
      "text/plain": [
       "<IPython.core.display.Javascript object>"
      ]
     },
     "metadata": {},
     "output_type": "display_data"
    }
   ],
   "source": [
    "prior_beta_mu = 0\n",
    "prior_beta_sd = 10\n",
    "prior_alpha_mu = 0\n",
    "prior_alpha_b = 10"
   ]
  },
  {
   "cell_type": "code",
   "execution_count": 8,
   "metadata": {},
   "outputs": [
    {
     "data": {
      "application/javascript": [
       "\n",
       "            setTimeout(function() {\n",
       "                var nbb_cell_id = 8;\n",
       "                var nbb_unformatted_code = \"with pm.Model() as model_simple:\\n    alpha = pm.Laplace('alpha', mu=prior_alpha_mu, b=prior_alpha_b)\\n    beta = pm.Normal('beta', mu=prior_beta_mu, sd=prior_beta_sd)\\n    mu = alpha + pm.math.dot(x, beta)    \\n    theta = pm.Deterministic('theta', pm.math.sigmoid(mu))\\n    bd = pm.Deterministic('bd', -alpha/beta)\\n    y = pm.Bernoulli('y', p=theta, observed=y_obs)\";\n",
       "                var nbb_formatted_code = \"with pm.Model() as model_simple:\\n    alpha = pm.Laplace(\\\"alpha\\\", mu=prior_alpha_mu, b=prior_alpha_b)\\n    beta = pm.Normal(\\\"beta\\\", mu=prior_beta_mu, sd=prior_beta_sd)\\n    mu = alpha + pm.math.dot(x, beta)\\n    theta = pm.Deterministic(\\\"theta\\\", pm.math.sigmoid(mu))\\n    bd = pm.Deterministic(\\\"bd\\\", -alpha / beta)\\n    y = pm.Bernoulli(\\\"y\\\", p=theta, observed=y_obs)\";\n",
       "                var nbb_cells = Jupyter.notebook.get_cells();\n",
       "                for (var i = 0; i < nbb_cells.length; ++i) {\n",
       "                    if (nbb_cells[i].input_prompt_number == nbb_cell_id) {\n",
       "                        if (nbb_cells[i].get_text() == nbb_unformatted_code) {\n",
       "                             nbb_cells[i].set_text(nbb_formatted_code);\n",
       "                        }\n",
       "                        break;\n",
       "                    }\n",
       "                }\n",
       "            }, 500);\n",
       "            "
      ],
      "text/plain": [
       "<IPython.core.display.Javascript object>"
      ]
     },
     "metadata": {},
     "output_type": "display_data"
    }
   ],
   "source": [
    "with pm.Model() as model_simple:\n",
    "    alpha = pm.Laplace('alpha', mu=prior_alpha_mu, b=prior_alpha_b)\n",
    "    beta = pm.Normal('beta', mu=prior_beta_mu, sd=prior_beta_sd)\n",
    "    mu = alpha + pm.math.dot(x, beta)    \n",
    "    theta = pm.Deterministic('theta', pm.math.sigmoid(mu))\n",
    "    bd = pm.Deterministic('bd', -alpha/beta)\n",
    "    y = pm.Bernoulli('y', p=theta, observed=y_obs)\n"
   ]
  },
  {
   "cell_type": "code",
   "execution_count": 9,
   "metadata": {},
   "outputs": [
    {
     "data": {
      "application/javascript": [
       "\n",
       "            setTimeout(function() {\n",
       "                var nbb_cell_id = 9;\n",
       "                var nbb_unformatted_code = \"with pm.Model() as model_censored:\\n    alpha = pm.Laplace('alpha', mu=prior_alpha_mu, b=prior_alpha_b)\\n    beta = pm.Normal('beta', mu=prior_beta_mu, sd=prior_beta_sd)\\n    mu = alpha + pm.math.dot(x_censored, beta)    \\n    theta = pm.Deterministic('theta', pm.math.sigmoid(mu))\\n    bd = pm.Deterministic('bd', -alpha/beta)\\n    y = pm.Bernoulli('y', p=theta, observed=y_obs_censored)\";\n",
       "                var nbb_formatted_code = \"with pm.Model() as model_censored:\\n    alpha = pm.Laplace(\\\"alpha\\\", mu=prior_alpha_mu, b=prior_alpha_b)\\n    beta = pm.Normal(\\\"beta\\\", mu=prior_beta_mu, sd=prior_beta_sd)\\n    mu = alpha + pm.math.dot(x_censored, beta)\\n    theta = pm.Deterministic(\\\"theta\\\", pm.math.sigmoid(mu))\\n    bd = pm.Deterministic(\\\"bd\\\", -alpha / beta)\\n    y = pm.Bernoulli(\\\"y\\\", p=theta, observed=y_obs_censored)\";\n",
       "                var nbb_cells = Jupyter.notebook.get_cells();\n",
       "                for (var i = 0; i < nbb_cells.length; ++i) {\n",
       "                    if (nbb_cells[i].input_prompt_number == nbb_cell_id) {\n",
       "                        if (nbb_cells[i].get_text() == nbb_unformatted_code) {\n",
       "                             nbb_cells[i].set_text(nbb_formatted_code);\n",
       "                        }\n",
       "                        break;\n",
       "                    }\n",
       "                }\n",
       "            }, 500);\n",
       "            "
      ],
      "text/plain": [
       "<IPython.core.display.Javascript object>"
      ]
     },
     "metadata": {},
     "output_type": "display_data"
    }
   ],
   "source": [
    "with pm.Model() as model_censored:\n",
    "    alpha = pm.Laplace('alpha', mu=prior_alpha_mu, b=prior_alpha_b)\n",
    "    beta = pm.Normal('beta', mu=prior_beta_mu, sd=prior_beta_sd)\n",
    "    mu = alpha + pm.math.dot(x_censored, beta)    \n",
    "    theta = pm.Deterministic('theta', pm.math.sigmoid(mu))\n",
    "    bd = pm.Deterministic('bd', -alpha/beta)\n",
    "    y = pm.Bernoulli('y', p=theta, observed=y_obs_censored)\n"
   ]
  },
  {
   "cell_type": "code",
   "execution_count": 10,
   "metadata": {},
   "outputs": [
    {
     "name": "stderr",
     "output_type": "stream",
     "text": [
      "Auto-assigning NUTS sampler...\n",
      "Initializing NUTS using jitter+adapt_diag...\n",
      "Multiprocess sampling (4 chains in 4 jobs)\n",
      "NUTS: [beta, alpha]\n"
     ]
    },
    {
     "data": {
      "text/html": [
       "\n",
       "    <div>\n",
       "        <style>\n",
       "            /* Turns off some styling */\n",
       "            progress {\n",
       "                /* gets rid of default border in Firefox and Opera. */\n",
       "                border: none;\n",
       "                /* Needs to be in here for Safari polyfill so background images work as expected. */\n",
       "                background-size: auto;\n",
       "            }\n",
       "            .progress-bar-interrupted, .progress-bar-interrupted::-webkit-progress-bar {\n",
       "                background: #F44336;\n",
       "            }\n",
       "        </style>\n",
       "      <progress value='8000' class='' max='8000' style='width:300px; height:20px; vertical-align: middle;'></progress>\n",
       "      100.00% [8000/8000 00:04<00:00 Sampling 4 chains, 0 divergences]\n",
       "    </div>\n",
       "    "
      ],
      "text/plain": [
       "<IPython.core.display.HTML object>"
      ]
     },
     "metadata": {},
     "output_type": "display_data"
    },
    {
     "name": "stderr",
     "output_type": "stream",
     "text": [
      "Sampling 4 chains for 1_000 tune and 1_000 draw iterations (4_000 + 4_000 draws total) took 20 seconds.\n",
      "The number of effective samples is smaller than 25% for some parameters.\n"
     ]
    },
    {
     "data": {
      "application/javascript": [
       "\n",
       "            setTimeout(function() {\n",
       "                var nbb_cell_id = 10;\n",
       "                var nbb_unformatted_code = \"with model_simple:\\n    trace_simple = pm.sample(1000, tune=1000)\";\n",
       "                var nbb_formatted_code = \"with model_simple:\\n    trace_simple = pm.sample(1000, tune=1000)\";\n",
       "                var nbb_cells = Jupyter.notebook.get_cells();\n",
       "                for (var i = 0; i < nbb_cells.length; ++i) {\n",
       "                    if (nbb_cells[i].input_prompt_number == nbb_cell_id) {\n",
       "                        if (nbb_cells[i].get_text() == nbb_unformatted_code) {\n",
       "                             nbb_cells[i].set_text(nbb_formatted_code);\n",
       "                        }\n",
       "                        break;\n",
       "                    }\n",
       "                }\n",
       "            }, 500);\n",
       "            "
      ],
      "text/plain": [
       "<IPython.core.display.Javascript object>"
      ]
     },
     "metadata": {},
     "output_type": "display_data"
    }
   ],
   "source": [
    "with model_simple:\n",
    "    trace_simple = pm.sample(1000, tune=1000)"
   ]
  },
  {
   "cell_type": "code",
   "execution_count": 11,
   "metadata": {},
   "outputs": [
    {
     "name": "stderr",
     "output_type": "stream",
     "text": [
      "Auto-assigning NUTS sampler...\n",
      "Initializing NUTS using jitter+adapt_diag...\n",
      "Multiprocess sampling (4 chains in 4 jobs)\n",
      "NUTS: [beta, alpha]\n"
     ]
    },
    {
     "data": {
      "text/html": [
       "\n",
       "    <div>\n",
       "        <style>\n",
       "            /* Turns off some styling */\n",
       "            progress {\n",
       "                /* gets rid of default border in Firefox and Opera. */\n",
       "                border: none;\n",
       "                /* Needs to be in here for Safari polyfill so background images work as expected. */\n",
       "                background-size: auto;\n",
       "            }\n",
       "            .progress-bar-interrupted, .progress-bar-interrupted::-webkit-progress-bar {\n",
       "                background: #F44336;\n",
       "            }\n",
       "        </style>\n",
       "      <progress value='8000' class='' max='8000' style='width:300px; height:20px; vertical-align: middle;'></progress>\n",
       "      100.00% [8000/8000 00:03<00:00 Sampling 4 chains, 1,333 divergences]\n",
       "    </div>\n",
       "    "
      ],
      "text/plain": [
       "<IPython.core.display.HTML object>"
      ]
     },
     "metadata": {},
     "output_type": "display_data"
    },
    {
     "name": "stderr",
     "output_type": "stream",
     "text": [
      "Sampling 4 chains for 1_000 tune and 1_000 draw iterations (4_000 + 4_000 draws total) took 17 seconds.\n",
      "There were 415 divergences after tuning. Increase `target_accept` or reparameterize.\n",
      "There were 313 divergences after tuning. Increase `target_accept` or reparameterize.\n",
      "There were 360 divergences after tuning. Increase `target_accept` or reparameterize.\n",
      "There were 245 divergences after tuning. Increase `target_accept` or reparameterize.\n",
      "The number of effective samples is smaller than 10% for some parameters.\n"
     ]
    },
    {
     "data": {
      "application/javascript": [
       "\n",
       "            setTimeout(function() {\n",
       "                var nbb_cell_id = 11;\n",
       "                var nbb_unformatted_code = \"with model_censored:\\n    trace_censored = pm.sample(1000, tune=1000)\";\n",
       "                var nbb_formatted_code = \"with model_censored:\\n    trace_censored = pm.sample(1000, tune=1000)\";\n",
       "                var nbb_cells = Jupyter.notebook.get_cells();\n",
       "                for (var i = 0; i < nbb_cells.length; ++i) {\n",
       "                    if (nbb_cells[i].input_prompt_number == nbb_cell_id) {\n",
       "                        if (nbb_cells[i].get_text() == nbb_unformatted_code) {\n",
       "                             nbb_cells[i].set_text(nbb_formatted_code);\n",
       "                        }\n",
       "                        break;\n",
       "                    }\n",
       "                }\n",
       "            }, 500);\n",
       "            "
      ],
      "text/plain": [
       "<IPython.core.display.Javascript object>"
      ]
     },
     "metadata": {},
     "output_type": "display_data"
    }
   ],
   "source": [
    "with model_censored:\n",
    "    trace_censored = pm.sample(1000, tune=1000)"
   ]
  },
  {
   "cell_type": "code",
   "execution_count": 12,
   "metadata": {},
   "outputs": [
    {
     "name": "stderr",
     "output_type": "stream",
     "text": [
      "/Users/juan.lopez.arriaza/opt/anaconda3/envs/base-project/lib/python3.6/site-packages/arviz/data/io_pymc3.py:91: FutureWarning: Using `from_pymc3` without the model will be deprecated in a future release. Not using the model will return less accurate and less useful results. Make sure you use the model argument or call from_pymc3 within a model context.\n",
      "  FutureWarning,\n"
     ]
    },
    {
     "data": {
      "text/plain": [
       "<matplotlib.legend.Legend at 0x7fb521f9aac8>"
      ]
     },
     "execution_count": 12,
     "metadata": {},
     "output_type": "execute_result"
    },
    {
     "data": {
      "image/png": "[encoded data removed]",
      "text/plain": [
       "<Figure size 432x417.6 with 1 Axes>"
      ]
     },
     "metadata": {
      "needs_background": "light"
     },
     "output_type": "display_data"
    },
    {
     "data": {
      "application/javascript": [
       "\n",
       "            setTimeout(function() {\n",
       "                var nbb_cell_id = 12;\n",
       "                var nbb_unformatted_code = \"az.plot_forest(trace_simple, var_names=[\\\"alpha\\\", \\\"beta\\\"])\\nplt.vlines(alpha_true, -100, 100, label=\\\"true_alpha\\\", color=\\\"orange\\\")\\nplt.vlines(beta_true, -100, 100, label=\\\"true_beta\\\", color=\\\"red\\\")\\nplt.legend()\";\n",
       "                var nbb_formatted_code = \"az.plot_forest(trace_simple, var_names=[\\\"alpha\\\", \\\"beta\\\"])\\nplt.vlines(alpha_true, -100, 100, label=\\\"true_alpha\\\", color=\\\"orange\\\")\\nplt.vlines(beta_true, -100, 100, label=\\\"true_beta\\\", color=\\\"red\\\")\\nplt.legend()\";\n",
       "                var nbb_cells = Jupyter.notebook.get_cells();\n",
       "                for (var i = 0; i < nbb_cells.length; ++i) {\n",
       "                    if (nbb_cells[i].input_prompt_number == nbb_cell_id) {\n",
       "                        if (nbb_cells[i].get_text() == nbb_unformatted_code) {\n",
       "                             nbb_cells[i].set_text(nbb_formatted_code);\n",
       "                        }\n",
       "                        break;\n",
       "                    }\n",
       "                }\n",
       "            }, 500);\n",
       "            "
      ],
      "text/plain": [
       "<IPython.core.display.Javascript object>"
      ]
     },
     "metadata": {},
     "output_type": "display_data"
    }
   ],
   "source": [
    "az.plot_forest(trace_simple, var_names=[\"alpha\", \"beta\"])\n",
    "plt.vlines(alpha_true, -100, 100, label=\"true_alpha\", color=\"orange\")\n",
    "plt.vlines(beta_true, -100, 100, label=\"true_beta\", color=\"red\")\n",
    "plt.legend()"
   ]
  },
  {
   "cell_type": "code",
   "execution_count": 13,
   "metadata": {},
   "outputs": [
    {
     "name": "stderr",
     "output_type": "stream",
     "text": [
      "/Users/juan.lopez.arriaza/opt/anaconda3/envs/base-project/lib/python3.6/site-packages/arviz/data/io_pymc3.py:91: FutureWarning: Using `from_pymc3` without the model will be deprecated in a future release. Not using the model will return less accurate and less useful results. Make sure you use the model argument or call from_pymc3 within a model context.\n",
      "  FutureWarning,\n"
     ]
    },
    {
     "data": {
      "text/plain": [
       "<matplotlib.legend.Legend at 0x7fb508f95080>"
      ]
     },
     "execution_count": 13,
     "metadata": {},
     "output_type": "execute_result"
    },
    {
     "data": {
      "image/png": "[encoded data removed]",
      "text/plain": [
       "<Figure size 432x417.6 with 1 Axes>"
      ]
     },
     "metadata": {
      "needs_background": "light"
     },
     "output_type": "display_data"
    },
    {
     "data": {
      "application/javascript": [
       "\n",
       "            setTimeout(function() {\n",
       "                var nbb_cell_id = 13;\n",
       "                var nbb_unformatted_code = \"az.plot_forest(trace_censored, var_names=[\\\"alpha\\\", \\\"beta\\\"])\\nplt.vlines(alpha_true, -100, 100, label=\\\"true_alpha\\\", color=\\\"orange\\\")\\nplt.vlines(beta_true, -100, 100, label=\\\"true_beta\\\", color=\\\"red\\\")\\nplt.vlines(np.sign(alpha_true) * np.log(np.abs(alpha_true)), -100, 100, color=\\\"green\\\")\\nplt.legend()\";\n",
       "                var nbb_formatted_code = \"az.plot_forest(trace_censored, var_names=[\\\"alpha\\\", \\\"beta\\\"])\\nplt.vlines(alpha_true, -100, 100, label=\\\"true_alpha\\\", color=\\\"orange\\\")\\nplt.vlines(beta_true, -100, 100, label=\\\"true_beta\\\", color=\\\"red\\\")\\nplt.vlines(np.sign(alpha_true) * np.log(np.abs(alpha_true)), -100, 100, color=\\\"green\\\")\\nplt.legend()\";\n",
       "                var nbb_cells = Jupyter.notebook.get_cells();\n",
       "                for (var i = 0; i < nbb_cells.length; ++i) {\n",
       "                    if (nbb_cells[i].input_prompt_number == nbb_cell_id) {\n",
       "                        if (nbb_cells[i].get_text() == nbb_unformatted_code) {\n",
       "                             nbb_cells[i].set_text(nbb_formatted_code);\n",
       "                        }\n",
       "                        break;\n",
       "                    }\n",
       "                }\n",
       "            }, 500);\n",
       "            "
      ],
      "text/plain": [
       "<IPython.core.display.Javascript object>"
      ]
     },
     "metadata": {},
     "output_type": "display_data"
    }
   ],
   "source": [
    "az.plot_forest(trace_censored, var_names=[\"alpha\", \"beta\"])\n",
    "plt.vlines(alpha_true, -100, 100, label=\"true_alpha\", color=\"orange\")\n",
    "plt.vlines(beta_true, -100, 100, label=\"true_beta\", color=\"red\")\n",
    "plt.vlines(np.sign(alpha_true) * np.log(np.abs(alpha_true)), -100, 100, color=\"green\")\n",
    "plt.legend()"
   ]
  },
  {
   "cell_type": "code",
   "execution_count": 14,
   "metadata": {},
   "outputs": [
    {
     "data": {
      "text/plain": [
       "<matplotlib.collections.PathCollection at 0x7fb539454a20>"
      ]
     },
     "execution_count": 14,
     "metadata": {},
     "output_type": "execute_result"
    },
    {
     "data": {
      "image/png": "[encoded data removed]",
      "text/plain": [
       "<Figure size 432x288 with 1 Axes>"
      ]
     },
     "metadata": {
      "needs_background": "light"
     },
     "output_type": "display_data"
    },
    {
     "data": {
      "application/javascript": [
       "\n",
       "            setTimeout(function() {\n",
       "                var nbb_cell_id = 14;\n",
       "                var nbb_unformatted_code = \"for sample in range(200):\\n    plt.scatter(\\n        x,\\n        calculate_sigmoid(\\n            trace_censored[\\\"alpha\\\"][sample], trace_censored[\\\"beta\\\"][sample], x[:, None]\\n        ),\\n        c=\\\"blue\\\",\\n        alpha=0.02,\\n    )\\n    plt.scatter(\\n        x,\\n        calculate_sigmoid(\\n            trace_simple[\\\"alpha\\\"][sample], trace_simple[\\\"beta\\\"][sample], x[:, None]\\n        ),\\n        c=\\\"red\\\",\\n        alpha=0.02,\\n    )\\n\\nplt.scatter(x, y_obs, c=\\\"black\\\")\";\n",
       "                var nbb_formatted_code = \"for sample in range(200):\\n    plt.scatter(\\n        x,\\n        calculate_sigmoid(\\n            trace_censored[\\\"alpha\\\"][sample], trace_censored[\\\"beta\\\"][sample], x[:, None]\\n        ),\\n        c=\\\"blue\\\",\\n        alpha=0.02,\\n    )\\n    plt.scatter(\\n        x,\\n        calculate_sigmoid(\\n            trace_simple[\\\"alpha\\\"][sample], trace_simple[\\\"beta\\\"][sample], x[:, None]\\n        ),\\n        c=\\\"red\\\",\\n        alpha=0.02,\\n    )\\n\\nplt.scatter(x, y_obs, c=\\\"black\\\")\";\n",
       "                var nbb_cells = Jupyter.notebook.get_cells();\n",
       "                for (var i = 0; i < nbb_cells.length; ++i) {\n",
       "                    if (nbb_cells[i].input_prompt_number == nbb_cell_id) {\n",
       "                        if (nbb_cells[i].get_text() == nbb_unformatted_code) {\n",
       "                             nbb_cells[i].set_text(nbb_formatted_code);\n",
       "                        }\n",
       "                        break;\n",
       "                    }\n",
       "                }\n",
       "            }, 500);\n",
       "            "
      ],
      "text/plain": [
       "<IPython.core.display.Javascript object>"
      ]
     },
     "metadata": {},
     "output_type": "display_data"
    }
   ],
   "source": [
    "for sample in range(200):\n",
    "    plt.scatter(\n",
    "        x,\n",
    "        calculate_sigmoid(\n",
    "            trace_censored[\"alpha\"][sample], trace_censored[\"beta\"][sample], x[:, None]\n",
    "        ),\n",
    "        c=\"blue\",\n",
    "        alpha=0.02,\n",
    "    )\n",
    "    plt.scatter(\n",
    "        x,\n",
    "        calculate_sigmoid(\n",
    "            trace_simple[\"alpha\"][sample], trace_simple[\"beta\"][sample], x[:, None]\n",
    "        ),\n",
    "        c=\"red\",\n",
    "        alpha=0.02,\n",
    "    )\n",
    "\n",
    "plt.scatter(x, y_obs, c=\"black\")"
   ]
  },
  {
   "cell_type": "code",
   "execution_count": 15,
   "metadata": {},
   "outputs": [
    {
     "data": {
      "text/plain": [
       "<matplotlib.collections.PathCollection at 0x7fb53941e4e0>"
      ]
     },
     "execution_count": 15,
     "metadata": {},
     "output_type": "execute_result"
    },
    {
     "data": {
      "image/png": "[encoded data removed]",
      "text/plain": [
       "<Figure size 432x288 with 1 Axes>"
      ]
     },
     "metadata": {
      "needs_background": "light"
     },
     "output_type": "display_data"
    },
    {
     "data": {
      "application/javascript": [
       "\n",
       "            setTimeout(function() {\n",
       "                var nbb_cell_id = 15;\n",
       "                var nbb_unformatted_code = \"for sample in range(200):\\n    plt.scatter(\\n        x,\\n        calculate_sigmoid(\\n            trace_censored[\\\"alpha\\\"][sample], trace_censored[\\\"beta\\\"][sample], x[:, None]\\n        ),\\n        c=\\\"blue\\\",\\n        alpha=0.02,\\n    )\\n\\nplt.scatter(x_censored, y_obs_censored, c=\\\"black\\\", alpha=0.1)\";\n",
       "                var nbb_formatted_code = \"for sample in range(200):\\n    plt.scatter(\\n        x,\\n        calculate_sigmoid(\\n            trace_censored[\\\"alpha\\\"][sample], trace_censored[\\\"beta\\\"][sample], x[:, None]\\n        ),\\n        c=\\\"blue\\\",\\n        alpha=0.02,\\n    )\\n\\nplt.scatter(x_censored, y_obs_censored, c=\\\"black\\\", alpha=0.1)\";\n",
       "                var nbb_cells = Jupyter.notebook.get_cells();\n",
       "                for (var i = 0; i < nbb_cells.length; ++i) {\n",
       "                    if (nbb_cells[i].input_prompt_number == nbb_cell_id) {\n",
       "                        if (nbb_cells[i].get_text() == nbb_unformatted_code) {\n",
       "                             nbb_cells[i].set_text(nbb_formatted_code);\n",
       "                        }\n",
       "                        break;\n",
       "                    }\n",
       "                }\n",
       "            }, 500);\n",
       "            "
      ],
      "text/plain": [
       "<IPython.core.display.Javascript object>"
      ]
     },
     "metadata": {},
     "output_type": "display_data"
    }
   ],
   "source": [
    "for sample in range(200):\n",
    "    plt.scatter(\n",
    "        x,\n",
    "        calculate_sigmoid(\n",
    "            trace_censored[\"alpha\"][sample], trace_censored[\"beta\"][sample], x[:, None]\n",
    "        ),\n",
    "        c=\"blue\",\n",
    "        alpha=0.02,\n",
    "    )\n",
    "\n",
    "plt.scatter(x_censored, y_obs_censored, c=\"black\", alpha=0.1)"
   ]
  },
  {
   "cell_type": "code",
   "execution_count": null,
   "metadata": {},
   "outputs": [],
   "source": []
  },
  {
   "cell_type": "code",
   "execution_count": null,
   "metadata": {},
   "outputs": [],
   "source": []
  }
 ],
 "metadata": {
  "kernelspec": {
   "display_name": "Python 3",
   "language": "python",
   "name": "python3"
  },
  "language_info": {
   "codemirror_mode": {
    "name": "ipython",
    "version": 3
   },
   "file_extension": ".py",
   "mimetype": "text/x-python",
   "name": "python",
   "nbconvert_exporter": "python",
   "pygments_lexer": "ipython3",
   "version": "3.6.11"
  }
 },
 "nbformat": 4,
 "nbformat_minor": 4
}
